{
 "metadata": {
  "celltoolbar": "Slideshow",
  "name": "",
  "signature": "sha256:81e1b6587ac088866817a46097a16d5d7d853ee3d7628afbff9a4db945b802fc"
 },
 "nbformat": 3,
 "nbformat_minor": 0,
 "worksheets": [
  {
   "cells": [
    {
     "cell_type": "markdown",
     "metadata": {
      "slideshow": {
       "slide_type": "slide"
      }
     },
     "source": [
      "Gaps in O'Reilly's Python repertoire\n",
      "====================================\n",
      "\n",
      "\n",
      "Tanya Schlusser\n",
      "11 December 2014\n",
      "\n",
      "\n",
      "<span style=\"color:gray;\">Slides prepared using iPython Notebook.</span>\n",
      "<a href=\"http://www.slideviper.oquanta.info/tutorial/slideshow_tutorial_slides.html#/10\">(Awesome quick tutorial</a>...\n",
      "<a href=\"http://daringfireball.net/projects/markdown/syntax\">\n",
      "and how to 'Markdown')</a>\n",
      "\n",
      "<span style=\"color:gray;\">Following along? Clone this:</span>\n",
      "<a href=\"https://github.com/tanyaschlusser/ipython_talk__OReilly_python_books\">https://github.com/tanyaschlusser/ipython_talk__OReilly_python_books</a>"
     ]
    },
    {
     "cell_type": "markdown",
     "metadata": {
      "slideshow": {
       "slide_type": "slide"
      }
     },
     "source": [
      "Motivation\n",
      "----------\n",
      "\n",
      "<img src=\"http://thumbs.dreamstime.com/x/empty-beer-glass-12676377.jpg\" alt=\"empty beer\" style=\"width:22%;\"></img>\n"
     ]
    },
    {
     "cell_type": "markdown",
     "metadata": {
      "slideshow": {
       "slide_type": "slide"
      }
     },
     "source": [
      "But\n",
      "---\n",
      "\n",
      "<img src=\"http://www.bizbuilder.com/wp-content/uploads/2012/12/No-Money.jpg\" alt=\"No money Fran\" style=\"width:60%;\"></img>\n"
     ]
    },
    {
     "cell_type": "markdown",
     "metadata": {
      "slideshow": {
       "slide_type": "slide"
      }
     },
     "source": [
      "So we\n",
      "-----\n",
      "\n",
      "<img src=\"http://data2.whicdn.com/images/140658472/large.gif\" alt=\"crying chipmunk\"  style=\"width:90%\"></img>\n"
     ]
    },
    {
     "cell_type": "markdown",
     "metadata": {
      "slideshow": {
       "slide_type": "slide"
      }
     },
     "source": [
      "What to do?\n",
      "-----------\n",
      "\n"
     ]
    },
    {
     "cell_type": "markdown",
     "metadata": {
      "slideshow": {
       "slide_type": "slide"
      }
     },
     "source": [
      "Option 1\n",
      "--------\n",
      "\n",
      "<img src=\"http://www.dvorak.org/blog/wp-content/uploads/2009/10/beer_beggar.jpg\" alt=\"beg for beer\" style=\"width:50%;\"></img>"
     ]
    },
    {
     "cell_type": "markdown",
     "metadata": {
      "slideshow": {
       "slide_type": "slide"
      }
     },
     "source": [
      "Option 2\n",
      "--------\n",
      "\n",
      "<img src=\"http://fc09.deviantart.net/fs70/f/2011/214/8/3/a_swim__by_duiker-d42g8lq.png\" alt=\"chimpunk swim\" style=\"width:50%\"></img>"
     ]
    },
    {
     "cell_type": "markdown",
     "metadata": {
      "slideshow": {
       "slide_type": "slide"
      }
     },
     "source": [
      "Option Oh Heck Yeah\n",
      "-------------------\n",
      "\n",
      "<img src=\"http://3.bp.blogspot.com/-yS3Jj0YO4aM/UT97UKfxuaI/AAAAAAAABLU/ZUSTTVqd82M/s1600/I+want+to+write+a+book.png\" alt=\"write a book\" style=\"width:55%; border:5px solid red;\"></img>\n"
     ]
    },
    {
     "cell_type": "markdown",
     "metadata": {
      "slideshow": {
       "slide_type": "slide"
      }
     },
     "source": [
      "And the reaction?\n",
      "-----------------"
     ]
    },
    {
     "cell_type": "markdown",
     "metadata": {
      "slideshow": {
       "slide_type": "slide"
      }
     },
     "source": [
      "Not naming names... B---- R--\n",
      "-----------------------------\n",
      "\n",
      "\n",
      "<img src=\"http://ubdavid.org/advanced/practical/graphics/19_man-scoffing.jpg\" alt=\"scoff\" style=\"width:40%\"></img>\n"
     ]
    },
    {
     "cell_type": "markdown",
     "metadata": {
      "slideshow": {
       "slide_type": "slide"
      }
     },
     "source": [
      "Well I say\n",
      "----------\n",
      "\n",
      "<img src=\"http://ep.yimg.com/ay/wackyplanetshop/monty-python-i-fart-in-your-general-direction-t-shirt-5.gif\"\n",
      "     alt=\"fart in general direction\" style=\"width:30%;\"></img>"
     ]
    },
    {
     "cell_type": "markdown",
     "metadata": {
      "slideshow": {
       "slide_type": "slide"
      }
     },
     "source": [
      "Well, it would be a haul ...\n",
      "----------------------------\n",
      "\n",
      "...wouldn't be able to get a drink for the next 18 - 36 months...\n"
     ]
    },
    {
     "cell_type": "markdown",
     "metadata": {
      "slideshow": {
       "slide_type": "slide"
      }
     },
     "source": [
      "But what to write?\n",
      "------------------\n",
      "\n",
      "There are over 120 Python publications by O'Reilly alone\n",
      "\n",
      "\n",
      "<img src=\"http://akamaicovers.oreilly.com/images/0636920028659/cat.gif\" style=\"width:10%;float:left;\"></img>\n",
      "<img src=\"http://akamaicovers.oreilly.com/images/0636920032502/bkt.gif\" style=\"width:10%;float:left;\"></img>\n",
      "<img src=\"http://akamaicovers.oreilly.com/images/9781783553358/bkt.gif\" style=\"width:10%;float:left;\"></img>\n",
      "<img src=\"http://akamaicovers.oreilly.com/images/110000781/bkt.gif\" style=\"width:10%;float:left;\"></img>\n",
      "<img src=\"http://akamaicovers.oreilly.com/images/0636920034094/bkt.gif\" style=\"width:10%;float:left;\"></img>\n",
      "<img src=\"http://akamaicovers.oreilly.com/images/0636920032519/rc_bkt.gif\" style=\"width:10%;float:left;clear:all;\"></img>\n",
      "<img src=\"http://akamaicovers.oreilly.com/images/0636920034803/bkt.gif\" style=\"width:10%;float:left;\"></img>\n",
      "<img src=\"http://akamaicovers.oreilly.com/images/9781783980420/bkt.gif\" style=\"width:10%;float:left;\"></img>\n",
      "<img src=\"http://akamaicovers.oreilly.com/images/9781782167853/bkt.gif\" style=\"width:10%;float:left;\"></img>\n",
      "<img src=\"http://akamaicovers.oreilly.com/images/9781118891452/bkt.gif\" style=\"width:10%;float:left\"></img>\n",
      "\n"
     ]
    },
    {
     "cell_type": "markdown",
     "metadata": {
      "slideshow": {
       "slide_type": "slide"
      }
     },
     "source": [
      "Approach it systematically:\n",
      "---------------------------\n",
      "\n",
      "1. See what's out there now\n",
      "2. Think about what we can contribute\n",
      "3. Lots of writing\n"
     ]
    },
    {
     "cell_type": "markdown",
     "metadata": {
      "slideshow": {
       "slide_type": "slide"
      }
     },
     "source": [
      "So, what's out there now?\n",
      "-------------------------\n",
      "\n",
      "Of course we're going to use Python to find out.\n",
      "And of course the universe is only the size of O'Reilly\n"
     ]
    },
    {
     "cell_type": "code",
     "collapsed": false,
     "input": [
      "# See what's out there now. Pull the:\n",
      "#  -- media type (book | video)\n",
      "#  -- title\n",
      "#  -- publication date\n",
      "import requests\n",
      "from bs4 import BeautifulSoup\n",
      "\n",
      "books_uri = \"http://shop.oreilly.com/category/browse-subjects/programming/python.do?sortby=publicationDate&page=%d\"\n"
     ],
     "language": "python",
     "metadata": {
      "slideshow": {
       "slide_type": "slide"
      }
     },
     "outputs": [],
     "prompt_number": 1
    },
    {
     "cell_type": "code",
     "collapsed": false,
     "input": [
      "# Loop over all of the pages\n",
      "results = []\n",
      "description_results = {}\n",
      "for page in range(1,5):\n",
      "    result = requests.get(books_uri % page)\n",
      "    soup = BeautifulSoup(result.text)\n",
      "    books = soup.find_all(\"td\", \"thumbtext\")\n",
      "    for b in books:\n",
      "        yr = b.find(\"span\", \"directorydate\").string.strip().split()\n",
      "        while not yr[-1].isdigit():\n",
      "            yr.pop()\n",
      "        yr = int(yr[-1])\n",
      "        title = b.find(\"div\", \"thumbheader\").text.strip()\n",
      "        url = b.find(\"div\", \"thumbheader\").find(\"a\")[\"href\"]\n",
      "        hasvideo = \"Video\" in b.text\n",
      "        results.append(dict(year=yr, title=title, hasvideo=hasvideo))"
     ],
     "language": "python",
     "metadata": {
      "slideshow": {
       "slide_type": "subslide"
      }
     },
     "outputs": [],
     "prompt_number": 2
    },
    {
     "cell_type": "code",
     "collapsed": false,
     "input": [
      "# Want to\n",
      "#  -- plot year over year number of books\n",
      "#      ++ stacked plot with video + print\n",
      "#  -- Get all the different words in the titles\n",
      "#     ++ count them\n",
      "#     ++ and order by frequency\n",
      "#\n",
      "# Use the Matplotlib magic command. Magic commands start with '%'.\n",
      "# This sets up to plot inline. It doesn't import anything...\n",
      "# Or use %pylab inline -- this apparently imports a lot of things into\n",
      "# the global namespace\n",
      "#\n",
      "%matplotlib inline\n"
     ],
     "language": "python",
     "metadata": {
      "slideshow": {
       "slide_type": "subslide"
      }
     },
     "outputs": [],
     "prompt_number": 3
    },
    {
     "cell_type": "code",
     "collapsed": false,
     "input": [
      "# For year over year I need pandas.DataFrame.groupby\n",
      "# For stacked plot I need matplotlib.pyplot\n",
      "# Plain dictionary for the word counts\n",
      "#\n",
      "import matplotlib.pyplot as plt\n",
      "import pandas as pd"
     ],
     "language": "python",
     "metadata": {
      "slideshow": {
       "slide_type": "subslide"
      }
     },
     "outputs": [],
     "prompt_number": 4
    },
    {
     "cell_type": "code",
     "collapsed": false,
     "input": [
      "# Year over year -- number of publications by 'video' and 'print'.\n",
      "#\n",
      "df = pd.DataFrame(results)\n",
      "byyear = pd.crosstab(df[\"year\"],df[\"hasvideo\"])\n",
      "byyear.rename(columns={True:'video', False:'print'}, inplace=True)\n",
      "byyear.plot(kind=\"area\", xlim=(2000,2014), title=\"Ever increasing publications\")\n"
     ],
     "language": "python",
     "metadata": {
      "slideshow": {
       "slide_type": "slide"
      }
     },
     "outputs": [
      {
       "metadata": {},
       "output_type": "pyout",
       "prompt_number": 5,
       "text": [
        "<matplotlib.axes._subplots.AxesSubplot at 0x108cc9210>"
       ]
      },
      {
       "metadata": {},
       "output_type": "display_data",
       "png": "[encoded data removed]",
       "text": [
        "<matplotlib.figure.Figure at 0x108cc0990>"
       ]
      }
     ],
     "prompt_number": 5
    },
    {
     "cell_type": "markdown",
     "metadata": {
      "slideshow": {
       "slide_type": "slide"
      }
     },
     "source": [
      "Um\n",
      "--\n",
      "\n",
      "That actually wasn't very satisfying..."
     ]
    },
    {
     "cell_type": "code",
     "collapsed": false,
     "input": [
      "# Out of curiosity, what happened in 2010?\n",
      "df[df[\"year\"]==2010]"
     ],
     "language": "python",
     "metadata": {
      "slideshow": {
       "slide_type": "subslide"
      }
     },
     "outputs": [
      {
       "html": [
        "<div style=\"max-height:1000px;max-width:1500px;overflow:auto;\">\n",
        "<table border=\"1\" class=\"dataframe\">\n",
        "  <thead>\n",
        "    <tr style=\"text-align: right;\">\n",
        "      <th></th>\n",
        "      <th>hasvideo</th>\n",
        "      <th>title</th>\n",
        "      <th>year</th>\n",
        "    </tr>\n",
        "  </thead>\n",
        "  <tbody>\n",
        "    <tr>\n",
        "      <th>77</th>\n",
        "      <td> False</td>\n",
        "      <td>   Python 2.6 Text Processing Beginner's Guide</td>\n",
        "      <td> 2010</td>\n",
        "    </tr>\n",
        "    <tr>\n",
        "      <th>78</th>\n",
        "      <td> False</td>\n",
        "      <td>               Programming Python, 4th Edition</td>\n",
        "      <td> 2010</td>\n",
        "    </tr>\n",
        "    <tr>\n",
        "      <th>79</th>\n",
        "      <td> False</td>\n",
        "      <td>                 Python Geospatial Development</td>\n",
        "      <td> 2010</td>\n",
        "    </tr>\n",
        "    <tr>\n",
        "      <th>80</th>\n",
        "      <td> False</td>\n",
        "      <td> wxPython 2.8 Application Development Cookbook</td>\n",
        "      <td> 2010</td>\n",
        "    </tr>\n",
        "    <tr>\n",
        "      <th>81</th>\n",
        "      <td> False</td>\n",
        "      <td>                  Python 2.6 Graphics Cookbook</td>\n",
        "      <td> 2010</td>\n",
        "    </tr>\n",
        "    <tr>\n",
        "      <th>82</th>\n",
        "      <td> False</td>\n",
        "      <td>                             Head First Python</td>\n",
        "      <td> 2010</td>\n",
        "    </tr>\n",
        "    <tr>\n",
        "      <th>83</th>\n",
        "      <td> False</td>\n",
        "      <td>        Real World Instrumentation with Python</td>\n",
        "      <td> 2010</td>\n",
        "    </tr>\n",
        "    <tr>\n",
        "      <th>84</th>\n",
        "      <td> False</td>\n",
        "      <td> Python Text Processing with NLTK 2.0 Cookbook</td>\n",
        "      <td> 2010</td>\n",
        "    </tr>\n",
        "    <tr>\n",
        "      <th>85</th>\n",
        "      <td> False</td>\n",
        "      <td>                              MySQL for Python</td>\n",
        "      <td> 2010</td>\n",
        "    </tr>\n",
        "    <tr>\n",
        "      <th>86</th>\n",
        "      <td> False</td>\n",
        "      <td>                             Python Multimedia</td>\n",
        "      <td> 2010</td>\n",
        "    </tr>\n",
        "    <tr>\n",
        "      <th>87</th>\n",
        "      <td>  True</td>\n",
        "      <td>       Practical Python Programming: Callbacks</td>\n",
        "      <td> 2010</td>\n",
        "    </tr>\n",
        "    <tr>\n",
        "      <th>88</th>\n",
        "      <td> False</td>\n",
        "      <td>          Python 3 Object Oriented Programming</td>\n",
        "      <td> 2010</td>\n",
        "    </tr>\n",
        "    <tr>\n",
        "      <th>89</th>\n",
        "      <td> False</td>\n",
        "      <td>                             Spring Python 1.1</td>\n",
        "      <td> 2010</td>\n",
        "    </tr>\n",
        "    <tr>\n",
        "      <th>90</th>\n",
        "      <td> False</td>\n",
        "      <td>                        Blender 2.49 Scripting</td>\n",
        "      <td> 2010</td>\n",
        "    </tr>\n",
        "    <tr>\n",
        "      <th>91</th>\n",
        "      <td> False</td>\n",
        "      <td>                       Professional IronPython</td>\n",
        "      <td> 2010</td>\n",
        "    </tr>\n",
        "    <tr>\n",
        "      <th>92</th>\n",
        "      <td> False</td>\n",
        "      <td>                      Grok 1.0 Web Development</td>\n",
        "      <td> 2010</td>\n",
        "    </tr>\n",
        "    <tr>\n",
        "      <th>93</th>\n",
        "      <td> False</td>\n",
        "      <td>                              Beginning Python</td>\n",
        "      <td> 2010</td>\n",
        "    </tr>\n",
        "    <tr>\n",
        "      <th>94</th>\n",
        "      <td> False</td>\n",
        "      <td>                                Python Testing</td>\n",
        "      <td> 2010</td>\n",
        "    </tr>\n",
        "  </tbody>\n",
        "</table>\n",
        "</div>"
       ],
       "metadata": {},
       "output_type": "pyout",
       "prompt_number": 6,
       "text": [
        "   hasvideo                                          title  year\n",
        "77    False    Python 2.6 Text Processing Beginner's Guide  2010\n",
        "78    False                Programming Python, 4th Edition  2010\n",
        "79    False                  Python Geospatial Development  2010\n",
        "80    False  wxPython 2.8 Application Development Cookbook  2010\n",
        "81    False                   Python 2.6 Graphics Cookbook  2010\n",
        "82    False                              Head First Python  2010\n",
        "83    False         Real World Instrumentation with Python  2010\n",
        "84    False  Python Text Processing with NLTK 2.0 Cookbook  2010\n",
        "85    False                               MySQL for Python  2010\n",
        "86    False                              Python Multimedia  2010\n",
        "87     True        Practical Python Programming: Callbacks  2010\n",
        "88    False           Python 3 Object Oriented Programming  2010\n",
        "89    False                              Spring Python 1.1  2010\n",
        "90    False                         Blender 2.49 Scripting  2010\n",
        "91    False                        Professional IronPython  2010\n",
        "92    False                       Grok 1.0 Web Development  2010\n",
        "93    False                               Beginning Python  2010\n",
        "94    False                                 Python Testing  2010"
       ]
      }
     ],
     "prompt_number": 6
    },
    {
     "cell_type": "code",
     "collapsed": false,
     "input": [
      "# Break up the titles and count words in the titles.\n",
      "#  -- Need a regex for the punctuation (commas and colons)\n",
      "#  -- Need a stemmer for plurals, posessives, and verb conjugations\n",
      "import re\n",
      "from nltk.stem.porter import PorterStemmer\n",
      "\n",
      "space_or_punct = re.compile(\"[\\s,:\\.]+\")\n",
      "stemmer = PorterStemmer()\n",
      "\n",
      "title_words = {}\n",
      "for r in results:\n",
      "    title = space_or_punct.split( r[\"title\"].lower() )\n",
      "    stemmed_title = (stemmer.stem(t) for t in title)\n",
      "    for t in stemmed_title:\n",
      "        # don't retain version or release numbers\n",
      "        if not t[0].isdigit():\n",
      "            if t not in title_words:\n",
      "                title_words[t] = 1\n",
      "            else:\n",
      "                title_words[t] += 1\n",
      "\n",
      "print \"Total distinct words in the titles:\", len(title_words), \"\\n\"\n",
      "print \"\\t\".join(title_words.keys())\n",
      "print\"\\n\"\n",
      "print \"\\n\".join(r[\"title\"] for r in results if not r[\"hasvideo\"])"
     ],
     "language": "python",
     "metadata": {
      "slideshow": {
       "slide_type": "notes"
      }
     },
     "outputs": [
      {
       "output_type": "stream",
       "stream": "stdout",
       "text": [
        "Total distinct words in the titles: 158 \n",
        "\n",
        "** Truncated for brevity **\n",
        "\n"
       ]
      }
     ],
     "prompt_number": 7
    },
    {
     "cell_type": "code",
     "collapsed": false,
     "input": [
      "# That was useless -- almost every word except for \"Python\" and \"Learn\"\n",
      "# shows up only in one title. Lame.\n",
      "#\n",
      "# Loop over all of the pages and get the book descriptions.\n",
      "# Maybe see if some things in the descriptions show common topics\n",
      "# (hoping for 'introductory' or 'web development' or 'machine learning')\n",
      "import nltk\n",
      "# Before running the below you need to do nltk.download() and select 'stopwords' from the corpus\n",
      "from nltk.corpus import stopwords\n",
      "\n",
      "english_stops = stopwords.words(\"English\")\n",
      "description_results = {}\n",
      "for page in range(1,5):\n",
      "    result = requests.get(books_uri % page)\n",
      "    soup = BeautifulSoup(result.text)\n",
      "    books = soup.find_all(\"td\", \"thumbtext\")\n",
      "    for b in books:\n",
      "        title = b.find(\"div\", \"thumbheader\").text.strip()\n",
      "        # Only look at the books\n",
      "        if not \"Video\" in b.text:\n",
      "            print \".\",\n",
      "            url = \"http://shop.oreilly.com\" + b.find(\"div\", \"thumbheader\").find(\"a\")[\"href\"]\n",
      "            result2 = requests.get(url)\n",
      "            soup2 = BeautifulSoup(result2.text)\n",
      "            description = soup2.find(\"div\", \"detail-description-content\").text\n",
      "            description_results[title] = set([stemmer.stem(word)\n",
      "                                          for word in space_or_punct.split(description.lower())\n",
      "                                          if word not in english_stops])\n",
      "print"
     ],
     "language": "python",
     "metadata": {
      "slideshow": {
       "slide_type": "notes"
      }
     },
     "outputs": [
      {
       "output_type": "stream",
       "stream": "stdout",
       "text": [
        ". "
       ]
      },
      {
       "output_type": "stream",
       "stream": "stdout",
       "text": [
        ". "
       ]
      },
      {
       "output_type": "stream",
       "stream": "stdout",
       "text": [
        ". "
       ]
      },
      {
       "output_type": "stream",
       "stream": "stdout",
       "text": [
        ". "
       ]
      },
      {
       "output_type": "stream",
       "stream": "stdout",
       "text": [
        ". "
       ]
      },
      {
       "output_type": "stream",
       "stream": "stdout",
       "text": [
        ". "
       ]
      },
      {
       "output_type": "stream",
       "stream": "stdout",
       "text": [
        ". "
       ]
      },
      {
       "output_type": "stream",
       "stream": "stdout",
       "text": [
        ". "
       ]
      },
      {
       "output_type": "stream",
       "stream": "stdout",
       "text": [
        ". "
       ]
      },
      {
       "output_type": "stream",
       "stream": "stdout",
       "text": [
        ". "
       ]
      },
      {
       "output_type": "stream",
       "stream": "stdout",
       "text": [
        ". "
       ]
      },
      {
       "output_type": "stream",
       "stream": "stdout",
       "text": [
        ". "
       ]
      },
      {
       "output_type": "stream",
       "stream": "stdout",
       "text": [
        ". "
       ]
      },
      {
       "output_type": "stream",
       "stream": "stdout",
       "text": [
        ". "
       ]
      },
      {
       "output_type": "stream",
       "stream": "stdout",
       "text": [
        ". "
       ]
      },
      {
       "output_type": "stream",
       "stream": "stdout",
       "text": [
        ". "
       ]
      },
      {
       "output_type": "stream",
       "stream": "stdout",
       "text": [
        ". "
       ]
      },
      {
       "output_type": "stream",
       "stream": "stdout",
       "text": [
        ". "
       ]
      },
      {
       "output_type": "stream",
       "stream": "stdout",
       "text": [
        ". "
       ]
      },
      {
       "output_type": "stream",
       "stream": "stdout",
       "text": [
        ". "
       ]
      },
      {
       "output_type": "stream",
       "stream": "stdout",
       "text": [
        ". "
       ]
      },
      {
       "output_type": "stream",
       "stream": "stdout",
       "text": [
        ". "
       ]
      },
      {
       "output_type": "stream",
       "stream": "stdout",
       "text": [
        ". "
       ]
      },
      {
       "output_type": "stream",
       "stream": "stdout",
       "text": [
        ". "
       ]
      },
      {
       "output_type": "stream",
       "stream": "stdout",
       "text": [
        ". "
       ]
      },
      {
       "output_type": "stream",
       "stream": "stdout",
       "text": [
        ". "
       ]
      },
      {
       "output_type": "stream",
       "stream": "stdout",
       "text": [
        ". "
       ]
      },
      {
       "output_type": "stream",
       "stream": "stdout",
       "text": [
        ". "
       ]
      },
      {
       "output_type": "stream",
       "stream": "stdout",
       "text": [
        ". "
       ]
      },
      {
       "output_type": "stream",
       "stream": "stdout",
       "text": [
        ". "
       ]
      },
      {
       "output_type": "stream",
       "stream": "stdout",
       "text": [
        ". "
       ]
      },
      {
       "output_type": "stream",
       "stream": "stdout",
       "text": [
        ". "
       ]
      },
      {
       "output_type": "stream",
       "stream": "stdout",
       "text": [
        ". "
       ]
      },
      {
       "output_type": "stream",
       "stream": "stdout",
       "text": [
        ". "
       ]
      },
      {
       "output_type": "stream",
       "stream": "stdout",
       "text": [
        ". "
       ]
      },
      {
       "output_type": "stream",
       "stream": "stdout",
       "text": [
        ". "
       ]
      },
      {
       "output_type": "stream",
       "stream": "stdout",
       "text": [
        ". "
       ]
      },
      {
       "output_type": "stream",
       "stream": "stdout",
       "text": [
        ". "
       ]
      },
      {
       "output_type": "stream",
       "stream": "stdout",
       "text": [
        ". "
       ]
      },
      {
       "output_type": "stream",
       "stream": "stdout",
       "text": [
        ". "
       ]
      },
      {
       "output_type": "stream",
       "stream": "stdout",
       "text": [
        ". "
       ]
      },
      {
       "output_type": "stream",
       "stream": "stdout",
       "text": [
        ". "
       ]
      },
      {
       "output_type": "stream",
       "stream": "stdout",
       "text": [
        ". "
       ]
      },
      {
       "output_type": "stream",
       "stream": "stdout",
       "text": [
        ". "
       ]
      },
      {
       "output_type": "stream",
       "stream": "stdout",
       "text": [
        ". "
       ]
      },
      {
       "output_type": "stream",
       "stream": "stdout",
       "text": [
        ". "
       ]
      },
      {
       "output_type": "stream",
       "stream": "stdout",
       "text": [
        ". "
       ]
      },
      {
       "output_type": "stream",
       "stream": "stdout",
       "text": [
        ". "
       ]
      },
      {
       "output_type": "stream",
       "stream": "stdout",
       "text": [
        ". "
       ]
      },
      {
       "output_type": "stream",
       "stream": "stdout",
       "text": [
        ". "
       ]
      },
      {
       "output_type": "stream",
       "stream": "stdout",
       "text": [
        ". "
       ]
      },
      {
       "output_type": "stream",
       "stream": "stdout",
       "text": [
        ". "
       ]
      },
      {
       "output_type": "stream",
       "stream": "stdout",
       "text": [
        ". "
       ]
      },
      {
       "output_type": "stream",
       "stream": "stdout",
       "text": [
        ". "
       ]
      },
      {
       "output_type": "stream",
       "stream": "stdout",
       "text": [
        ". "
       ]
      },
      {
       "output_type": "stream",
       "stream": "stdout",
       "text": [
        ". "
       ]
      },
      {
       "output_type": "stream",
       "stream": "stdout",
       "text": [
        ". "
       ]
      },
      {
       "output_type": "stream",
       "stream": "stdout",
       "text": [
        ". "
       ]
      },
      {
       "output_type": "stream",
       "stream": "stdout",
       "text": [
        ". "
       ]
      },
      {
       "output_type": "stream",
       "stream": "stdout",
       "text": [
        ". "
       ]
      },
      {
       "output_type": "stream",
       "stream": "stdout",
       "text": [
        ". "
       ]
      },
      {
       "output_type": "stream",
       "stream": "stdout",
       "text": [
        ". "
       ]
      },
      {
       "output_type": "stream",
       "stream": "stdout",
       "text": [
        ". "
       ]
      },
      {
       "output_type": "stream",
       "stream": "stdout",
       "text": [
        ". "
       ]
      },
      {
       "output_type": "stream",
       "stream": "stdout",
       "text": [
        ". "
       ]
      },
      {
       "output_type": "stream",
       "stream": "stdout",
       "text": [
        ". "
       ]
      },
      {
       "output_type": "stream",
       "stream": "stdout",
       "text": [
        ". "
       ]
      },
      {
       "output_type": "stream",
       "stream": "stdout",
       "text": [
        ". "
       ]
      },
      {
       "output_type": "stream",
       "stream": "stdout",
       "text": [
        ". "
       ]
      },
      {
       "output_type": "stream",
       "stream": "stdout",
       "text": [
        ". "
       ]
      },
      {
       "output_type": "stream",
       "stream": "stdout",
       "text": [
        ". "
       ]
      },
      {
       "output_type": "stream",
       "stream": "stdout",
       "text": [
        ". "
       ]
      },
      {
       "output_type": "stream",
       "stream": "stdout",
       "text": [
        ". "
       ]
      },
      {
       "output_type": "stream",
       "stream": "stdout",
       "text": [
        ". "
       ]
      },
      {
       "output_type": "stream",
       "stream": "stdout",
       "text": [
        ". "
       ]
      },
      {
       "output_type": "stream",
       "stream": "stdout",
       "text": [
        ". "
       ]
      },
      {
       "output_type": "stream",
       "stream": "stdout",
       "text": [
        ". "
       ]
      },
      {
       "output_type": "stream",
       "stream": "stdout",
       "text": [
        ". "
       ]
      },
      {
       "output_type": "stream",
       "stream": "stdout",
       "text": [
        ". "
       ]
      },
      {
       "output_type": "stream",
       "stream": "stdout",
       "text": [
        ". "
       ]
      },
      {
       "output_type": "stream",
       "stream": "stdout",
       "text": [
        ". "
       ]
      },
      {
       "output_type": "stream",
       "stream": "stdout",
       "text": [
        ". "
       ]
      },
      {
       "output_type": "stream",
       "stream": "stdout",
       "text": [
        ". "
       ]
      },
      {
       "output_type": "stream",
       "stream": "stdout",
       "text": [
        ". "
       ]
      },
      {
       "output_type": "stream",
       "stream": "stdout",
       "text": [
        ". "
       ]
      },
      {
       "output_type": "stream",
       "stream": "stdout",
       "text": [
        ". "
       ]
      },
      {
       "output_type": "stream",
       "stream": "stdout",
       "text": [
        ". "
       ]
      },
      {
       "output_type": "stream",
       "stream": "stdout",
       "text": [
        ". "
       ]
      },
      {
       "output_type": "stream",
       "stream": "stdout",
       "text": [
        ". "
       ]
      },
      {
       "output_type": "stream",
       "stream": "stdout",
       "text": [
        ". "
       ]
      },
      {
       "output_type": "stream",
       "stream": "stdout",
       "text": [
        ". "
       ]
      },
      {
       "output_type": "stream",
       "stream": "stdout",
       "text": [
        ". "
       ]
      },
      {
       "output_type": "stream",
       "stream": "stdout",
       "text": [
        ". "
       ]
      },
      {
       "output_type": "stream",
       "stream": "stdout",
       "text": [
        ". "
       ]
      },
      {
       "output_type": "stream",
       "stream": "stdout",
       "text": [
        ". "
       ]
      },
      {
       "output_type": "stream",
       "stream": "stdout",
       "text": [
        ". "
       ]
      },
      {
       "output_type": "stream",
       "stream": "stdout",
       "text": [
        ". "
       ]
      },
      {
       "output_type": "stream",
       "stream": "stdout",
       "text": [
        ". "
       ]
      },
      {
       "output_type": "stream",
       "stream": "stdout",
       "text": [
        ". "
       ]
      },
      {
       "output_type": "stream",
       "stream": "stdout",
       "text": [
        ". "
       ]
      },
      {
       "output_type": "stream",
       "stream": "stdout",
       "text": [
        ". "
       ]
      },
      {
       "output_type": "stream",
       "stream": "stdout",
       "text": [
        ". "
       ]
      },
      {
       "output_type": "stream",
       "stream": "stdout",
       "text": [
        ". "
       ]
      },
      {
       "output_type": "stream",
       "stream": "stdout",
       "text": [
        ". "
       ]
      },
      {
       "output_type": "stream",
       "stream": "stdout",
       "text": [
        ". "
       ]
      },
      {
       "output_type": "stream",
       "stream": "stdout",
       "text": [
        ". "
       ]
      },
      {
       "output_type": "stream",
       "stream": "stdout",
       "text": [
        ". "
       ]
      },
      {
       "output_type": "stream",
       "stream": "stdout",
       "text": [
        ". "
       ]
      },
      {
       "output_type": "stream",
       "stream": "stdout",
       "text": [
        ". "
       ]
      },
      {
       "output_type": "stream",
       "stream": "stdout",
       "text": [
        ".\n"
       ]
      }
     ],
     "prompt_number": 11
    },
    {
     "cell_type": "code",
     "collapsed": false,
     "input": [
      "# Try clustering:\n",
      "#   -- Distance between two book descriptions is the percent overlap\n",
      "#      of words in both their descriptions\n",
      "#   -- Arbitrarily (from qualitative looking) decide on a threshold of\n",
      "#      17% overlap in descriptions for both books to be 'similar'\n",
      "#      and look at what we get\n",
      "percent_overlap = []\n",
      "min_intersections = []\n",
      "max_intersections = []\n",
      "avg_intersections = []\n",
      "similar_books = {}\n",
      "\n",
      "sorted_titles = sorted(description_results.keys())\n",
      "for i in range(len(sorted_titles)):\n",
      "    this_description = description_results[sorted_titles[i]]\n",
      "    \n",
      "    def get_percent_overlap(title):\n",
      "        intersection_size = len(this_description.intersection(description_results[title]))\n",
      "        union_size = len(this_description.union(description_results[t]))\n",
      "        return (intersection_size * 100) / union_size\n",
      "        \n",
      "    percent_overlap.append([get_percent_overlap(t) for t in sorted_titles])\n",
      "    similar_books[sorted_titles[i]] = [\n",
      "            t for t in sorted_titles\n",
      "            if get_percent_overlap(t) > 17 and t != sorted_titles[i]\n",
      "    ]\n",
      "    min_intersections.append(round(min(percent_overlap[-1])))\n",
      "    max_intersections.append(round(max(percent_overlap[-1])))\n",
      "    avg_intersections.append(round(100 * sum(percent_overlap[-1]) / len(sorted_titles)))\n",
      "\n",
      "print \"\\n\".join(\"\\n%s\\n%s\" % (k, \"|\".join(v)) for k, v in similar_books.iteritems())"
     ],
     "language": "python",
     "metadata": {
      "slideshow": {
       "slide_type": "notes"
      }
     },
     "outputs": [
      {
       "output_type": "stream",
       "stream": "stdout",
       "text": [
        "\n",
        "** Truncated for brevity **\n",
        "\n"
       ]
      }
     ],
     "prompt_number": 12
    },
    {
     "cell_type": "code",
     "collapsed": false,
     "input": [
      "from scipy.cluster.hierarchy import linkage, dendrogram\n"
     ],
     "language": "python",
     "metadata": {
      "slideshow": {
       "slide_type": "notes"
      }
     },
     "outputs": [],
     "prompt_number": 13
    },
    {
     "cell_type": "code",
     "collapsed": false,
     "input": [
      "plt.figure(figsize=(5,20))\n",
      "data_link = linkage(percent_overlap, method='single', metric='euclidean')\n",
      "\n",
      "den = dendrogram(data_link,labels=sorted_titles, orientation=\"left\")\n",
      "\n",
      "plt.ylabel('Samples', fontsize=9)\n",
      "plt.xlabel('Distance')\n",
      "plt.suptitle('Books clustered by description similarity', fontweight='bold', fontsize=14);\n"
     ],
     "language": "python",
     "metadata": {
      "slideshow": {
       "slide_type": "slide"
      }
     },
     "outputs": [
      {
       "metadata": {},
       "output_type": "display_data",
       "png": "[encoded data removed]",
       "text": [
        "<matplotlib.figure.Figure at 0x10b60f950>"
       ]
      }
     ],
     "prompt_number": 14
    },
    {
     "cell_type": "code",
     "collapsed": false,
     "input": [
      "# The output of linkage is uninterpretable for a human.\n",
      "# Nest them in a JSON for readability\n",
      "# print data_link\n",
      "\n",
      "human_links = dict(enumerate(sorted_titles))\n",
      "index = len(human_links)\n",
      "for link in data_link:\n",
      "    left = link[0]\n",
      "    right = link[1]\n",
      "    human_links[index] = {left:human_links[left], right:human_links[right]}\n",
      "    del(human_links[left], human_links[right])\n",
      "    index += 1\n",
      "\n",
      "import json\n",
      "with open(\"data/hclust.json\", \"w\") as outfile:\n",
      "    outfile.write(json.dumps(human_links))\n",
      "\n",
      "#print human_links"
     ],
     "language": "python",
     "metadata": {
      "slideshow": {
       "slide_type": "notes"
      }
     },
     "outputs": [],
     "prompt_number": 15
    },
    {
     "cell_type": "code",
     "collapsed": false,
     "input": [
      "from IPython.display import HTML\n",
      "\n",
      "container = \"\"\"\n",
      "    <script type=\"text/javascript\" src=\"http://d3js.org/d3.v3.min.js\"></script>\n",
      "    <a href='http://bl.ocks.org/mbostock/4063570'>Layout attribution: Michael Bostock</a>\n",
      "    <div id='display_container'></div>\"\"\"\n",
      "\n",
      "with open(\"data/d3-stacked-Tree.js\") as infile:\n",
      "    display_js = infile.read()\n",
      "\n",
      "with open(\"data/human_hclust.json\") as infile:\n",
      "    the_json = infile.read()\n",
      "\n",
      "HTML(container + display_js % the_json )"
     ],
     "language": "python",
     "metadata": {
      "slideshow": {
       "slide_type": "slide"
      }
     },
     "outputs": [
      {
       "html": [
        "\n",
        "    <script type=\"text/javascript\" src=\"http://d3js.org/d3.v3.min.js\"></script>\n",
        "    <a href='http://bl.ocks.org/mbostock/4063570'>Layout attribution: Michael Bostock</a>\n",
        "    <div id='display_container'></div><script>\r\n",
        "/*\r\n",
        "This is Michael Bostock's collapsible tree -- with my data\r\n",
        "\r\n",
        "    http://bl.ocks.org/mbostock/4063570\r\n",
        "    as part of his d3.js project\r\n",
        "    https://github.com/mbostock/d3/wiki/Gallery\r\n",
        "*/\r\n",
        "var style = document.getElementsByTagName('style')[0];\r\n",
        "if ( style == null ) {\r\n",
        "  style = document.createElement('style');\r\n",
        "  style.type = 'text/css';\r\n",
        "  style.innerHTML = '';\r\n",
        "  document.getElementsByTagName('head')[0].appendChild(style);\r\n",
        "}\r\n",
        "style.innerHTML = style.innerHTML +  \r\n",
        "         \"\\n#display_container *\" +\r\n",
        "         \"{  font-family: Arial; } \" +\r\n",
        "         \"\\n\" +\r\n",
        "         \"#display_container .node rect {\" +\r\n",
        "         \"  cursor: pointer;\" +\r\n",
        "         \"  fill: #fff;\" +\r\n",
        "         \"  fill-opacity: .5;\" +\r\n",
        "         \"  stroke: #3182bd;\" +\r\n",
        "         \"  stroke-width: 1.5px;\" +\r\n",
        "         \"}\" +\r\n",
        "         \"\\n\" +\r\n",
        "         \"#display_container .node text {\" +\r\n",
        "         \"  font: 14px sans-serif;\" +\r\n",
        "         \"  pointer-events: none;\" +\r\n",
        "         \"}\" +\r\n",
        "         \"\\n\" +\r\n",
        "         \"#display_container path.link {\" +\r\n",
        "         \"  fill: none;\" +\r\n",
        "         \"  stroke: #9ecae1;\" +\r\n",
        "         \"  stroke-width: 1.5px;\" +\r\n",
        "         \"}\";\r\n",
        "\r\n",
        "\r\n",
        "var margin = {top: 30, right: 20, bottom: 30, left: 20},\r\n",
        "    width = 800 - margin.left - margin.right,\r\n",
        "    barHeight = 25,\r\n",
        "    barWidth = width * .7;\r\n",
        "\r\n",
        "var i = 0,\r\n",
        "    duration = 400,\r\n",
        "    root;\r\n",
        "\r\n",
        "var tree = d3.layout.tree()\r\n",
        "    .size([0, 100]);\r\n",
        "\r\n",
        "var diagonal = d3.svg.diagonal()\r\n",
        "    .projection(function(d) { return [d.y, d.x]; });\r\n",
        "\r\n",
        "var svg = d3.select(\"#display_container\").append(\"svg\")\r\n",
        "    .attr(\"width\", width + margin.left + margin.right)\r\n",
        "  .append(\"g\")\r\n",
        "    .attr(\"transform\", \"translate(\" + margin.left + \",\" + margin.top + \")\");\r\n",
        "\r\n",
        "\r\n",
        "function update(source) {\r\n",
        "\r\n",
        "  // Compute the flattened node list. TODO use d3.layout.hierarchy.\r\n",
        "  var nodes = tree.nodes(root);\r\n",
        "\r\n",
        "  var height = Math.max(150, nodes.length * barHeight + margin.top + margin.bottom);\r\n",
        "\r\n",
        "  d3.select(\"svg\")\r\n",
        "      .attr(\"height\", height);\r\n",
        "\r\n",
        "  d3.select(self.frameElement)\r\n",
        "      .style(\"height\", height + \"px\");\r\n",
        "\r\n",
        "  // Compute the \"layout\".\r\n",
        "  nodes.forEach(function(n, i) {\r\n",
        "    n.x = i * barHeight;\r\n",
        "  });\r\n",
        "\r\n",
        "  // Update the nodes\r\n",
        "  var node = svg.selectAll(\"g.node\")\r\n",
        "      .data(nodes, function(d) { return d.id || (d.id = ++i); });\r\n",
        "\r\n",
        "  var nodeEnter = node.enter().append(\"g\")\r\n",
        "      .attr(\"class\", \"node\")\r\n",
        "      .attr(\"transform\", function(d) { return \"translate(\" + source.y0 + \",\" + source.x0 + \")\"; })\r\n",
        "      .style(\"opacity\", 1e-6);\r\n",
        "\r\n",
        "  // Enter any new nodes at the parent's previous position.\r\n",
        "  nodeEnter.append(\"rect\")\r\n",
        "      .attr(\"y\", -barHeight / 2)\r\n",
        "      .attr(\"height\", barHeight)\r\n",
        "      .attr(\"width\", barWidth)\r\n",
        "      .style(\"fill\", color)\r\n",
        "      .on(\"click\", toggle);\r\n",
        "\r\n",
        "  nodeEnter.append(\"text\")\r\n",
        "      .attr(\"dy\", 3.5)\r\n",
        "      .attr(\"dx\", 5.5)\r\n",
        "      .text(function(d) {\r\n",
        "          return d.name + (d.n_descendants ? \" (\" + d.n_descendants + \" titles)\" : \"\");\r\n",
        "      });\r\n",
        "\r\n",
        "  // Transition nodes to their new position.\r\n",
        "  nodeEnter.transition()\r\n",
        "      .duration(duration)\r\n",
        "      .attr(\"transform\", function(d) { return \"translate(\" + d.y + \",\" + d.x + \")\"; })\r\n",
        "      .style(\"opacity\", 1);\r\n",
        "\r\n",
        "  node.transition()\r\n",
        "      .duration(duration)\r\n",
        "      .attr(\"transform\", function(d) { return \"translate(\" + d.y + \",\" + d.x + \")\"; })\r\n",
        "      .style(\"opacity\", 1)\r\n",
        "    .select(\"rect\")\r\n",
        "      .style(\"fill\", color);\r\n",
        "\r\n",
        "  // Transition exiting nodes to the parent's new position.\r\n",
        "  node.exit().transition()\r\n",
        "      .duration(duration)\r\n",
        "      .attr(\"transform\", function(d) { return \"translate(\" + source.y + \",\" + source.x + \")\"; })\r\n",
        "      .style(\"opacity\", 1e-6)\r\n",
        "      .remove();\r\n",
        "\r\n",
        "  // Update the links\r\n",
        "  var link = svg.selectAll(\"path.link\")\r\n",
        "      .data(tree.links(nodes), function(d) { return d.target.id; });\r\n",
        "\r\n",
        "  // Enter any new links at the parent's previous position.\r\n",
        "  link.enter().insert(\"path\", \"g\")\r\n",
        "      .attr(\"class\", \"link\")\r\n",
        "      .attr(\"d\", function(d) {\r\n",
        "        var o = {x: source.x0, y: source.y0};\r\n",
        "        return diagonal({source: o, target: o});\r\n",
        "      })\r\n",
        "    .transition()\r\n",
        "      .duration(duration)\r\n",
        "      .attr(\"d\", diagonal);\r\n",
        "\r\n",
        "  // Transition links to their new position.\r\n",
        "  link.transition()\r\n",
        "      .duration(duration)\r\n",
        "      .attr(\"d\", diagonal);\r\n",
        "\r\n",
        "  // Transition exiting nodes to the parent's new position.\r\n",
        "  link.exit().transition()\r\n",
        "      .duration(duration)\r\n",
        "      .attr(\"d\", function(d) {\r\n",
        "        var o = {x: source.x, y: source.y};\r\n",
        "        return diagonal({source: o, target: o});\r\n",
        "      })\r\n",
        "      .remove();\r\n",
        "\r\n",
        "  // Stash the old positions for transition.\r\n",
        "  nodes.forEach(function(d) {\r\n",
        "    d.x0 = d.x;\r\n",
        "    d.y0 = d.y;\r\n",
        "  });\r\n",
        "}\r\n",
        "\r\n",
        "// Toggle children on click.\r\n",
        "function toggle(d) {\r\n",
        "  if (d.children) {\r\n",
        "    d._children = d.children;\r\n",
        "    d.children = null;\r\n",
        "  } else {\r\n",
        "    d.children = d._children;\r\n",
        "    d._children = null;\r\n",
        "  }\r\n",
        "  update(d);\r\n",
        "}\r\n",
        "\r\n",
        "function color(d) {\r\n",
        "  return d._children ?  \"#1181E6\" : d.children ?  \"#1181C6\" : \"#B7DFF5\" ;\r\n",
        "  //return d._children ?  \"#81BfD7\" : d.children ?  \"#1181C6\" : \"#B7DFF5\" ;\r\n",
        "  // #3182bd #c6dbef #fd8d3c\r\n",
        "}\r\n",
        "\r\n",
        "\r\n",
        "\r\n",
        "root = {\"name\":\"Python books\", \"children\": [\n",
        "\n",
        "  {\"name\":\"Pure programming\",\n",
        "  \"children\": [\n",
        "    {\"name\":\"Beginning\",\n",
        "     \"children\": [\n",
        "{\"name\": \"Automate the Boring Stuff with Python\"},\n",
        "{\"name\": \"Beginning Programming with Python For Dummies\"},\n",
        "{\"name\": \"Beginning Python\"},\n",
        "{\"name\": \"Fluent Python\"},\n",
        "{\"name\": \"Getting Started with Pyparsing\"},\n",
        "{\"name\": \"Head First Python\"},\n",
        "{\"name\": \"Instant SymPy Starter\"},\n",
        "{\"name\": \"Introducing Python\"},\n",
        "{\"name\": \"Learning IPython for Interactive Computing and Data Visualization\"},\n",
        "{\"name\": \"Learning Python Design Patterns\"},\n",
        "{\"name\": \"Learning Python, 2nd Edition\"},\n",
        "{\"name\": \"Learning Python, 3rd Edition\"},\n",
        "{\"name\": \"Learning Python, 5th Edition\"},\n",
        "{\"name\": \"Making Use of Python\"},\n",
        "{\"name\": \"Programming Python, 3rd Edition\"},\n",
        "{\"name\": \"Programming Python, 4th Edition\"},\n",
        "{\"name\": \"Python\"},\n",
        "{\"name\": \"Python & XML\"},\n",
        "{\"name\": \"Python Crash Course\"},\n",
        "{\"name\": \"Python For Dummies\"},\n",
        "{\"name\": \"Python for Kids\"},\n",
        "{\"name\": \"Python for Secret Agents\"},\n",
        "{\"name\": \"Python Playground\"},\n",
        "{\"name\": \"Python Programming On Win32\"},\n",
        "{\"name\": \"Python Tools for Visual Studio\"},\n",
        "{\"name\": \"Violent Python\"}\n",
        "      ]},\n",
        "    {\"name\":\"Advanced\",\n",
        "     \"children\": [\n",
        "{\"name\": \"Think Python\"},\n",
        "{\"name\": \"Think Complexity\"},\n",
        "{\"name\": \"Test-Driven Development with Python\"},\n",
        "{\"name\": \"Python Testing Cookbook\"},\n",
        "{\"name\": \"Python Testing\"},\n",
        "{\"name\": \"Python Standard Library\"},\n",
        "{\"name\": \"Python High Performance Programming\"},\n",
        "{\"name\": \"Python 3 Object Oriented Programming\"},\n",
        "{\"name\": \"Professional Python Frameworks\"},\n",
        "{\"name\": \"Professional IronPython\"},\n",
        "{\"name\": \"Practical Programming, 2nd Edition\"},\n",
        "{\"name\": \"Parallel Programming with Python\"},\n",
        "{\"name\": \"Mastering Python Regular Expressions\"},\n",
        "{\"name\": \"Mastering Object-oriented Python\"},\n",
        "{\"name\": \"High Performance Python\"},\n",
        "{\"name\": \"Expert Python Programming\"},\n",
        "{\"name\": \"Cython\"}\n",
        "      ]},\n",
        "    {\"name\":\"Concise\",\n",
        "     \"children\": [\n",
        "{\"name\": \"Python Cookbook, 3rd Edition\"},\n",
        "{\"name\": \"Python in a Nutshell, 2nd Edition\"},\n",
        "{\"name\": \"Python Pocket Reference, 3rd Edition\"},\n",
        "{\"name\": \"Python Pocket Reference, 5th Edition\"}\n",
        "      ]}\n",
        "  ]},\n",
        "  {\"name\":\"Games / Web\",\n",
        "  \"children\": [\n",
        "    {\"name\":\"Visualization\",\n",
        "     \"children\": [\n",
        "{\"name\": \"Blender 2.49 Scripting\"},\n",
        "{\"name\": \"FreeCAD [How-to]\"},\n",
        "{\"name\": \"OpenCV Computer Vision with Python\"},\n",
        "{\"name\": \"Practical Maya Programming with Python\"},\n",
        "{\"name\": \"Programming Computer Vision with Python\"},\n",
        "{\"name\": \"Python 2.6 Graphics Cookbook\"}\n",
        "      ]},\n",
        "    {\"name\":\"Frameworks\",\n",
        "     \"children\": [\n",
        "{\"name\": \"Creating Apps in Kivy\"},\n",
        "{\"name\": \"Django Essentials\"},\n",
        "{\"name\": \"Flask Web Development\"},\n",
        "{\"name\": \"Grok 1.0 Web Development\"},\n",
        "{\"name\": \"Instant Django 1.5 Application Development Starter\"},\n",
        "{\"name\": \"Instant Flask Web Development\"},\n",
        "{\"name\": \"Instant Pygame for Python Game Development How-to\"},\n",
        "{\"name\": \"Kivy: Interactive Applications in Python\"},\n",
        "{\"name\": \"Lightweight Django\"},\n",
        "{\"name\": \"Next-Generation Web Frameworks in Python\"},\n",
        "{\"name\": \"PySide GUI Application Development\"},\n",
        "{\"name\": \"Python 3 Web Development\"},\n",
        "{\"name\": \"Python Multimedia\"},\n",
        "{\"name\": \"Python Network Programming Cookbook\"},\n",
        "{\"name\": \"Spring Python 1.1\"},\n",
        "{\"name\": \"Tkinter GUI Application Development HOTSHOT\"},\n",
        "{\"name\": \"Twisted Network Programming Essentials, 2nd Edition\"},\n",
        "{\"name\": \"web2py Application Development Cookbook\"},\n",
        "{\"name\": \"wxPython 2.8 Application Development Cookbook\"}\n",
        "      ]},\n",
        "    {\"name\":\"Data\",\n",
        "     \"children\": [\n",
        "{\"name\": \"Python and HDF5\"},\n",
        "{\"name\": \"Python and AWS Cookbook\"},\n",
        "{\"name\": \"MySQL for Python\"},\n",
        "{\"name\": \"MongoDB and Python\"},\n",
        "{\"name\": \"Essential SQLAlchemy\"}\n",
        "      ]}\n",
        "  ]},\n",
        "  {\"name\":\"Scientific / Hobby\",\n",
        "  \"children\": [\n",
        "    {\"name\":\"Function\",\n",
        "     \"children\": [\n",
        "{\"name\": \"Learning NumPy Array\"},\n",
        "{\"name\": \"Learning Python Data Visualization\"},\n",
        "{\"name\": \"Learning scikit-learn: Machine Learning in Python\"},\n",
        "{\"name\": \"Matplotlib for Python Developers\"},\n",
        "{\"name\": \"Natural Language Processing with Python\"},\n",
        "{\"name\": \"NumPy 1.5\"},\n",
        "{\"name\": \"NumPy Beginner's Guide, 2nd Edition\"},\n",
        "{\"name\": \"NumPy Cookbook\"},\n",
        "{\"name\": \"Python 3 Text Processing with NLTK 3 Cookbook\"},\n",
        "{\"name\": \"Python Data Analysis\"},\n",
        "{\"name\": \"Python Data Visualization Cookbook\"},\n",
        "{\"name\": \"Python for Data Analysis\"},\n",
        "{\"name\": \"Python Text Processing with NLTK 2.0 Cookbook\"},\n",
        "{\"name\": \"Sage\"}\n",
        "      ]},\n",
        "    {\"name\":\"Hardware\",\n",
        "     \"children\": [\n",
        "{\"name\": \"Real World Instrumentation with Python\"},\n",
        "{\"name\": \"Raspberry Pi Cookbook for Python Programmers\"},\n",
        "{\"name\": \"Learning Python with Raspberry Pi\"},\n",
        "{\"name\": \"CherryPy Essentials\"}\n",
        "      ]},\n",
        "    {\"name\":\"Applications\",\n",
        "     \"children\": [\n",
        "{\"name\": \"Bioinformatics Programming Using Python\"},\n",
        "{\"name\": \"Building Machine Learning Systems with Python\"},\n",
        "{\"name\": \"Building Probabilistic Graphical Models with Python\"},\n",
        "{\"name\": \"Learning Geospatial Analysis with Python\"},\n",
        "{\"name\": \"Mining the Social Web, 2nd Edition\"},\n",
        "{\"name\": \"Python 2.6 Text Processing Beginner's Guide\"},\n",
        "{\"name\": \"Python for Finance\"},\n",
        "{\"name\": \"Python Geospatial Development\"},\n",
        "{\"name\": \"Python Geospatial Development, 2nd Edition\"},\n",
        "{\"name\": \"Think Stats, 2nd Edition\"},\n",
        "{\"name\": \"Black Hat Python\"},\n",
        "{\"name\": \"Gray Hat Python\"},\n",
        "{\"name\": \"Python Forensics\"}\n",
        "      ]}\n",
        "  ]}\n",
        "]}\n",
        ";  // Python to add the JSON in string formatting\r\n",
        "root.x0 = 0;\r\n",
        "root.y0 = 0;\r\n",
        "\r\n",
        "function get_n_descendants(d) {\r\n",
        "  if (d.children) {\r\n",
        "    d.n_descendants = d.children.reduce(\r\n",
        "        function(pv, cv) {return pv + get_n_descendants(cv); },0);\r\n",
        "  return d.n_descendants;\r\n",
        "  } else {\r\n",
        "    return 1;\r\n",
        "  }\r\n",
        "}\r\n",
        "\r\n",
        "get_n_descendants(root);\r\n",
        "\r\n",
        "\r\n",
        "function toggleAll(d) {\r\n",
        "  if (d.children) {\r\n",
        "    d.children.forEach(toggleAll);\r\n",
        "    toggle(d);\r\n",
        "  }\r\n",
        "}\r\n",
        "  \r\n",
        "// Initialize the display to show a few nodes.\r\n",
        "root.children.forEach(toggleAll);\r\n",
        "  \r\n",
        "update(root);\r\n",
        "\r\n",
        "</script>\r\n"
       ],
       "metadata": {},
       "output_type": "pyout",
       "prompt_number": 19,
       "text": [
        "<IPython.core.display.HTML at 0x10b5f5f50>"
       ]
      }
     ],
     "prompt_number": 19
    },
    {
     "cell_type": "markdown",
     "metadata": {
      "slideshow": {
       "slide_type": "slide"
      }
     },
     "source": [
      "Quick interpretation\n",
      "--------------------\n",
      "\n",
      "It makes sense that topics have little overlap.\n",
      "Otherwise why write a different book?\n",
      "Do we have anything to contribute?\n",
      "\n",
      "- Pure programming (47)\n",
      "    - Unless we write our own library, I think this space is full\n",
      "    - Plus, any book should be better than Udacity / existing blogs, or why do it?\n",
      "- Games / Web (30)\n",
      "    - Lots of expertise here, right? (Not me, but what percent of ChiPy does this?)\n",
      "- Scientific / Hobby (31)\n",
      "    - The other half of ChiPy? The finance guys? (What percent?)\n",
      "    - We could actually contact the pyMCMC guy [Thomas Wiecki](http://twiecki.github.io/bayesian_risk_perf_boston_data_fest14.slides.html#/) and offer to help him out\n",
      "\n"
     ]
    },
    {
     "cell_type": "markdown",
     "metadata": {
      "slideshow": {
       "slide_type": "slide"
      }
     },
     "source": [
      "Thank you -- what next?\n",
      "-----------------------\n",
      "\n",
      "- Contact me if you want do do something\n",
      "- Ideas welcome\n",
      "- This may or may not happen\n",
      "    - depends on interest\n",
      "    - and whether interest can be sustained\n"
     ]
    },
    {
     "cell_type": "markdown",
     "metadata": {
      "slideshow": {
       "slide_type": "slide"
      }
     },
     "source": [
      "Actual question\n",
      "---------------\n",
      "\n",
      "How many people are using Python as their primary enterprise language?\n",
      "Are there bounds to the team size and project size?\n",
      "\n",
      "My world view is kind of:\n",
      "- **Python:** great for hacking and quick text manipulation -- Perl-ish\n",
      "- **Java:** for enterprise products and projects\n",
      "- **C++:** for people / enterprises with memory or speed constraints\n",
      "\n",
      "Am I wrong?"
     ]
    }
   ],
   "metadata": {}
  }
 ]
}
